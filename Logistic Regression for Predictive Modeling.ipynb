{
 "cells": [
  {
   "cell_type": "markdown",
   "metadata": {},
   "source": [
    "## <span>LOGISTIC REGRESSION FOR PREDICTIVE MODELING</span>"
   ]
  },
  {
   "cell_type": "markdown",
   "metadata": {},
   "source": [
    "### **Question**\n",
    "Which customers are most likely to leave the telecom company, and why? What features are especially important in terms of customer churn?"
   ]
  },
  {
   "cell_type": "markdown",
   "metadata": {},
   "source": [
    "### **Goals and Objectives**\n",
    "Stakeholders in the organization will benefit from knowing with some certainty which customers are more \n",
    "likely to churn and which aren't. Stakeholders will be able to get answers to their inquiries and make better business \n",
    "decisions as a consequence of statistical analysis."
   ]
  },
  {
   "cell_type": "markdown",
   "metadata": {},
   "source": [
    "### **Assumptions**"
   ]
  },
  {
   "cell_type": "markdown",
   "metadata": {},
   "source": [
    "The Bernoulli Distribution is used in logistic regression, where the predicted values are limited to a range of nominal values such as \"Yes\" or \"No\".\n",
    "Logistic Regression forecasts the likelihood of specific events rather than the outcome itself. Logistic Regression is the logarithm of one's chances of success."
   ]
  },
  {
   "cell_type": "markdown",
   "metadata": {},
   "source": [
    "This project will be supported by Jupyter notebook, and the analysis will be done in Python. Python is a programming language that focuses on readability and cross-platform compatibility. It is fast and well-suited for large-scale machine learning deployment as compared to other programming languages like R."
   ]
  },
  {
   "cell_type": "markdown",
   "metadata": {},
   "source": [
    "### **Explanation on why logistic regression is an appropriate technique**"
   ]
  },
  {
   "cell_type": "markdown",
   "metadata": {},
   "source": [
    "The categorical dependent variable is predicted using a set of independent variables in Logistic Regression. We find the S-curve by which we may classify the data and forecast the values of categorical variables. We want to determine the likelihood of customer turnover for certain consumers based on a collection of independent variables. We will obtain a better understanding of increasing churn probability by understanding how the predictor variables affect the overall target variable."
   ]
  },
  {
   "cell_type": "markdown",
   "metadata": {},
   "source": [
    "### **Data Goals**"
   ]
  },
  {
   "cell_type": "markdown",
   "metadata": {},
   "source": [
    "1. Import the dataset into Python using the read csv command, as well as the necessary libraries for the analysis.\n",
    "2. To have a better grasp of the dataset, look at the data structure. Find outliers through the use of boxplots and impute missing data with either mean, median or mode. \n",
    "3. The dependent variable will be \"Churn\", which will also be the categorical binary target variable. Other category predictor factors were discovered in the dataset after further inspection. All of the categorical variables were \"Techie\", \"Contract\", \"Port modem\", \"Tablet\", \"InternetService\", \"Phone\", \"Multiple\", \"OnlineSecurity\", \"OnlineBackup\", \"DeviceProtection\", \"TechSupport\", \"StreamingTV\" and \"StreamingMovies\". \n",
    "4. Finally, discrete ordinal predictor variables from \"Item 1\" to \"Item 8\" from the dataset were renamed according to the data dictionary inorder for the reader to better understand the features.\n"
   ]
  },
  {
   "cell_type": "markdown",
   "metadata": {},
   "source": [
    "### **Summary Statistics**"
   ]
  },
  {
   "cell_type": "markdown",
   "metadata": {},
   "source": [
    "There were 50 columns and 10,000 records in the imported dataset. User IDs and demographic category variables were eliminated. Before doing the regression analysis, all other binary categorical variables were encoded as 1 or 0. There were 33 numerical independent predictor variables and 1 dependent variable remained at this point (34 total columns). Prior to import, the churn dataset had been cleaned, and there appeared to be no null or missing values in the dataset. Although \"Outage sec per week\" and \"MonthlyCharge\" appear to have normal distributions, \"Bandwidth GB Year\" and \"Tenure\" appear to have bimodal distributions. The average age of this dataset is 53.08 years, with a standard deviation of 20.70. The average household income in the United States is $39806.93. A particular household had a maximum of ten children. The average annual consumption of gigabytes per family was 3,392 GB. The target variable, \"Churn,\" will be the dependant variable for this analysis."
   ]
  },
  {
   "cell_type": "markdown",
   "metadata": {},
   "source": [
    "### **Prepared Dataset**"
   ]
  },
  {
   "cell_type": "code",
   "execution_count": 33,
   "metadata": {},
   "outputs": [],
   "source": [
    "churns.to_csv('newlogisticchurn.csv')\n",
    "newchurns = pd.read_csv('newlogisticchurn.csv')"
   ]
  },
  {
   "cell_type": "code",
   "execution_count": 34,
   "metadata": {},
   "outputs": [
    {
     "data": {
      "text/plain": [
       "(10000, 35)"
      ]
     },
     "execution_count": 34,
     "metadata": {},
     "output_type": "execute_result"
    }
   ],
   "source": [
    "newchurns.shape"
   ]
  },
  {
   "cell_type": "markdown",
   "metadata": {},
   "source": [
    "### **Initial Logistic Regression Model**"
   ]
  },
  {
   "cell_type": "code",
   "execution_count": 36,
   "metadata": {},
   "outputs": [],
   "source": [
    "from statsmodels.formula.api import logit\n"
   ]
  },
  {
   "cell_type": "code",
   "execution_count": 38,
   "metadata": {},
   "outputs": [
    {
     "name": "stdout",
     "output_type": "stream",
     "text": [
      "Optimization terminated successfully.\n",
      "         Current function value: 0.319573\n",
      "         Iterations 8\n",
      "                           Logit Regression Results                           \n",
      "==============================================================================\n",
      "Dep. Variable:           EncodedChurn   No. Observations:                10000\n",
      "Model:                          Logit   Df Residuals:                     9981\n",
      "Method:                           MLE   Df Model:                           18\n",
      "Date:                Wed, 20 Oct 2021   Pseudo R-squ.:                  0.4473\n",
      "Time:                        18:10:48   Log-Likelihood:                -3195.7\n",
      "converged:                       True   LL-Null:                       -5782.2\n",
      "Covariance Type:            nonrobust   LLR p-value:                     0.000\n",
      "========================================================================================\n",
      "                           coef    std err          z      P>|z|      [0.025      0.975]\n",
      "----------------------------------------------------------------------------------------\n",
      "Children                -0.0980      0.016     -6.318      0.000      -0.128      -0.068\n",
      "Age                      0.0114      0.002      7.130      0.000       0.008       0.015\n",
      "Income                5.015e-07   1.12e-06      0.450      0.653   -1.68e-06    2.69e-06\n",
      "Outage_sec_perweek      -0.0009      0.011     -0.087      0.931      -0.022       0.020\n",
      "Email                    0.0018      0.010      0.169      0.866      -0.019       0.022\n",
      "Contacts                 0.0243      0.032      0.764      0.445      -0.038       0.087\n",
      "Yearly_equip_failure    -0.0267      0.050     -0.539      0.590      -0.124       0.071\n",
      "Tenure                  -0.3156      0.012    -25.482      0.000      -0.340      -0.291\n",
      "Bandwidth_GB_Year        0.0029      0.000     20.156      0.000       0.003       0.003\n",
      "MonthlyCharge            0.0262      0.001     27.344      0.000       0.024       0.028\n",
      "TimelyResponse          -0.0201      0.045     -0.447      0.655      -0.108       0.068\n",
      "TimelyFixes             -0.0162      0.042     -0.384      0.701      -0.099       0.067\n",
      "TimelyReplacements      -0.0053      0.039     -0.138      0.890      -0.081       0.070\n",
      "Reliability             -0.0376      0.034     -1.096      0.273      -0.105       0.030\n",
      "Options                 -0.0439      0.036     -1.223      0.221      -0.114       0.026\n",
      "RespectfulResponse      -0.0044      0.037     -0.119      0.906      -0.076       0.068\n",
      "CourteousExchange       -0.0203      0.035     -0.580      0.562      -0.089       0.048\n",
      "ActiveListening         -0.0024      0.033     -0.071      0.943      -0.067       0.062\n",
      "intercept               -5.4290      0.369    -14.709      0.000      -6.152      -4.706\n",
      "========================================================================================\n"
     ]
    }
   ],
   "source": [
    "#Logistic Regression Results (Dummy variables are not included for the predictor variables)\n",
    "newchurns['intercept'] = 1\n",
    "churn_rate = sm.Logit(newchurns['EncodedChurn'], newchurns[['Children', 'Age', 'Income', \n",
    "'Outage_sec_perweek', 'Email', 'Contacts','Yearly_equip_failure', 'Tenure', 'Bandwidth_GB_Year', 'MonthlyCharge',\n",
    "'TimelyResponse', 'TimelyFixes', 'TimelyReplacements', 'Reliability',\n",
    "'Options', 'RespectfulResponse', 'CourteousExchange', 'ActiveListening', 'intercept']]).fit()\n",
    "\n",
    "print(churn_rate.summary())"
   ]
  },
  {
   "cell_type": "code",
   "execution_count": 39,
   "metadata": {},
   "outputs": [
    {
     "name": "stdout",
     "output_type": "stream",
     "text": [
      "Optimization terminated successfully.\n",
      "         Current function value: 0.277912\n",
      "         Iterations 8\n",
      "                           Logit Regression Results                           \n",
      "==============================================================================\n",
      "Dep. Variable:           EncodedChurn   No. Observations:                10000\n",
      "Model:                          Logit   Df Residuals:                     9966\n",
      "Method:                           MLE   Df Model:                           33\n",
      "Date:                Wed, 20 Oct 2021   Pseudo R-squ.:                  0.5194\n",
      "Time:                        18:12:59   Log-Likelihood:                -2779.1\n",
      "converged:                       True   LL-Null:                       -5782.2\n",
      "Covariance Type:            nonrobust   LLR p-value:                     0.000\n",
      "===========================================================================================\n",
      "                              coef    std err          z      P>|z|      [0.025      0.975]\n",
      "-------------------------------------------------------------------------------------------\n",
      "Children                   -0.2835      0.051     -5.581      0.000      -0.383      -0.184\n",
      "Age                         0.0314      0.005      5.850      0.000       0.021       0.042\n",
      "Income                    8.62e-07   1.21e-06      0.713      0.476   -1.51e-06    3.23e-06\n",
      "Outage_sec_perweek         -0.0040      0.011     -0.352      0.725      -0.026       0.018\n",
      "Email                      -0.0034      0.011     -0.302      0.763      -0.025       0.019\n",
      "Contacts                    0.0464      0.034      1.350      0.177      -0.021       0.114\n",
      "Yearly_equip_failure       -0.0340      0.054     -0.632      0.528      -0.139       0.071\n",
      "Tenure                     -0.8415      0.129     -6.536      0.000      -1.094      -0.589\n",
      "MonthlyCharge               0.0029      0.003      1.051      0.293      -0.002       0.008\n",
      "TimelyResponse             -0.0099      0.048     -0.205      0.838      -0.105       0.085\n",
      "TimelyFixes                -0.0103      0.046     -0.225      0.822      -0.099       0.079\n",
      "TimelyReplacements          0.0191      0.041      0.461      0.645      -0.062       0.100\n",
      "Reliability                -0.0425      0.037     -1.152      0.249      -0.115       0.030\n",
      "Options                    -0.0374      0.039     -0.961      0.337      -0.114       0.039\n",
      "RespectfulResponse         -0.0052      0.040     -0.131      0.896      -0.083       0.073\n",
      "CourteousExchange          -0.0292      0.038     -0.769      0.442      -0.103       0.045\n",
      "ActiveListening             0.0003      0.036      0.009      0.993      -0.069       0.070\n",
      "EncodedGender              -0.4064      0.122     -3.344      0.001      -0.645      -0.168\n",
      "Bandwidth_GB_Year           0.0091      0.002      5.843      0.000       0.006       0.012\n",
      "EncodedTechie               0.8439      0.088      9.540      0.000       0.671       1.017\n",
      "EncodedContract            -2.1030      0.104    -20.222      0.000      -2.307      -1.899\n",
      "EncodedPort_modem           0.0996      0.068      1.469      0.142      -0.033       0.233\n",
      "EncodedTablet              -0.0451      0.074     -0.610      0.542      -0.190       0.100\n",
      "EncodedInternetService     -2.7222      0.665     -4.091      0.000      -4.026      -1.418\n",
      "EncodedPhone               -0.2121      0.114     -1.859      0.063      -0.436       0.012\n",
      "EncodedMultiple             0.4999      0.123      4.080      0.000       0.260       0.740\n",
      "EncodedOnlineSecurity      -0.8800      0.134     -6.556      0.000      -1.143      -0.617\n",
      "EncodedOnlineBackup        -0.2932      0.143     -2.051      0.040      -0.573      -0.013\n",
      "EncodedDeviceProtection    -0.4440      0.137     -3.243      0.001      -0.712      -0.176\n",
      "EncodedTechSupport          0.1500      0.076      1.983      0.047       0.002       0.298\n",
      "EncodedStreamingTV          0.0875      0.324      0.270      0.787      -0.547       0.722\n",
      "EncodedStreamingMovies      0.6765      0.293      2.312      0.021       0.103       1.250\n",
      "EncodedPaperlessBilling     0.0908      0.069      1.319      0.187      -0.044       0.226\n",
      "intercept                  -4.0633      0.454     -8.945      0.000      -4.954      -3.173\n",
      "===========================================================================================\n"
     ]
    }
   ],
   "source": [
    "#All predictor variables are included in the Logistic Regression Analysis (Includes the dummy variables)\n",
    "newchurns['intercept'] = 1\n",
    "churn_rate = sm.Logit(newchurns['EncodedChurn'], newchurns[['Children', 'Age', 'Income', \n",
    "'Outage_sec_perweek', 'Email', 'Contacts','Yearly_equip_failure', 'Tenure', 'MonthlyCharge',\n",
    "'TimelyResponse', 'TimelyFixes', 'TimelyReplacements', 'Reliability',\n",
    "'Options', 'RespectfulResponse', 'CourteousExchange', 'ActiveListening',\n",
    "'EncodedGender', 'Bandwidth_GB_Year', 'EncodedTechie', 'EncodedContract',\n",
    "'EncodedPort_modem', 'EncodedTablet', 'EncodedInternetService',\n",
    "'EncodedPhone', 'EncodedMultiple', 'EncodedOnlineSecurity',\n",
    "'EncodedOnlineBackup', 'EncodedDeviceProtection', 'EncodedTechSupport',\n",
    "'EncodedStreamingTV', 'EncodedStreamingMovies',\n",
    "'EncodedPaperlessBilling', 'intercept']]).fit()\n",
    "\n",
    "print(churn_rate.summary())"
   ]
  },
  {
   "cell_type": "markdown",
   "metadata": {},
   "source": [
    "### **Initial Logistic Regression Model Equation**\n",
    "\n",
    "According to the table above, psuedo R squared value increased from .4473 to.5194 after the dummy variables were added to the continuous variables. In this case, the model with the larger pseudo R-squared (**when encoded categorical values were included**) is the one that best predicts the outcome.\n",
    "y = -4.06 + -0.28*X<sub>1</sub> + 0.0314*X<sub>2</sub> + 0*X<sub>3</sub> + -0.0040*X<sub>4</sub> + -0.0034*X<sub>5</sub> + 0.0464*X<sub>6</sub>+ -0.0340*X<sub>7</sub> + -0.8415*X<sub>8</sub> + 0.0029*X<sub>9</sub> + -0.0099*X<sub>10</sub> -0.0103*X<sub>11</sub> + 0.0191*X<sub>12</sub> + -0.0425*X<sub>13</sub> + -0.0374*X<sub>14</sub> -0.0052*X<sub>15</sub> + -0.0292*X<sub>16</sub> + 0.003*X<sub>17</sub> -0.4064*X<sub>18</sub> + 0.0091*X<sub>19</sub> + .8439*X<sub>20</sub> + -2.1030*X<sub>21</sub> + 0.0996*X<sub>22</sub> -0.0451*X<sub>23</sub> + -2.7222*X<sub>24</sub> + -0.2121*X<sub>25</sub> + 0.4999*X<sub>26</sub> -0.8800*X<sub>27</sub> + -0.2932*X<sub>28</sub> + -.4440*X<sub>29</sub> + .1500*X<sub>30</sub> + 0.0875*X<sub>31</sub> + 0.6765*X<sub>32</sub> + 0.0908*X<sub>33</sub> "
   ]
  },
  {
   "cell_type": "markdown",
   "metadata": {},
   "source": [
    "### **Justification for Model Reduction**\n",
    "\n",
    "One model selection strategy is the **backward-elimination strategy**. The approach begins with a model that incorporates all possible predictor variables. Variables are excluded from the model ONE AT A TIME until only those with statistically significant p values remain (until the P values are smaller than the alpha value) (0.05)\n",
    "1. ActiveListening has the highest p value. Delete the \"ActiveListening\" column and refit the model\n",
    "2. Continue the process until other variables with p values greater than the alpha value (0.05) needs to be removed. \n",
    "3. After refitting the model, we can see that EncodedTechSupport and MonthlyCharge still needs to be removed. After the removal process, see if there are any more p values that are greater than the alpha value.\n",
    "4. Run the seaborn heatmap to see any correlation"
   ]
  },
  {
   "cell_type": "markdown",
   "metadata": {},
   "source": [
    "### **Reduced Regression Model**"
   ]
  },
  {
   "cell_type": "code",
   "execution_count": 45,
   "metadata": {},
   "outputs": [
    {
     "name": "stdout",
     "output_type": "stream",
     "text": [
      "Optimization terminated successfully.\n",
      "         Current function value: 0.278578\n",
      "         Iterations 8\n",
      "                           Logit Regression Results                           \n",
      "==============================================================================\n",
      "Dep. Variable:           EncodedChurn   No. Observations:                10000\n",
      "Model:                          Logit   Df Residuals:                     9984\n",
      "Method:                           MLE   Df Model:                           15\n",
      "Date:                Wed, 20 Oct 2021   Pseudo R-squ.:                  0.5182\n",
      "Time:                        19:15:27   Log-Likelihood:                -2785.8\n",
      "converged:                       True   LL-Null:                       -5782.2\n",
      "Covariance Type:            nonrobust   LLR p-value:                     0.000\n",
      "===========================================================================================\n",
      "                              coef    std err          z      P>|z|      [0.025      0.975]\n",
      "-------------------------------------------------------------------------------------------\n",
      "Children                   -0.2953      0.025    -11.867      0.000      -0.344      -0.247\n",
      "Age                         0.0326      0.003     12.579      0.000       0.028       0.038\n",
      "Tenure                     -0.8713      0.051    -17.205      0.000      -0.971      -0.772\n",
      "MonthlyCharge               0.0028      0.003      1.051      0.293      -0.002       0.008\n",
      "EncodedGender              -0.4234      0.078     -5.461      0.000      -0.575      -0.271\n",
      "Bandwidth_GB_Year           0.0095      0.001     15.559      0.000       0.008       0.011\n",
      "EncodedTechie               0.8383      0.088      9.517      0.000       0.666       1.011\n",
      "EncodedContract            -2.1014      0.104    -20.275      0.000      -2.305      -1.898\n",
      "EncodedInternetService     -2.8760      0.278    -10.350      0.000      -3.421      -2.331\n",
      "EncodedMultiple             0.4717      0.087      5.407      0.000       0.301       0.643\n",
      "EncodedOnlineSecurity      -0.9045      0.082    -11.047      0.000      -1.065      -0.744\n",
      "EncodedOnlineBackup        -0.3256      0.074     -4.415      0.000      -0.470      -0.181\n",
      "EncodedDeviceProtection    -0.4661      0.073     -6.351      0.000      -0.610      -0.322\n",
      "EncodedTechSupport          0.1425      0.075      1.889      0.059      -0.005       0.290\n",
      "EncodedStreamingMovies      0.5969      0.092      6.502      0.000       0.417       0.777\n",
      "intercept                  -4.6222      0.237    -19.462      0.000      -5.088      -4.157\n",
      "===========================================================================================\n"
     ]
    }
   ],
   "source": [
    "\n",
    "#Includes the refined predictor variables. (Part 1)\n",
    "newchurns['intercept'] = 1\n",
    "churn_rate = sm.Logit(newchurns['EncodedChurn'], newchurns[['Children', 'Age', 'Tenure', 'MonthlyCharge',\n",
    "'EncodedGender', 'Bandwidth_GB_Year', 'EncodedTechie', 'EncodedContract',\n",
    "'EncodedInternetService','EncodedMultiple', 'EncodedOnlineSecurity',\n",
    "'EncodedOnlineBackup', 'EncodedDeviceProtection', 'EncodedTechSupport', 'EncodedStreamingMovies','intercept']]).fit()\n",
    "\n",
    "print(churn_rate.summary())"
   ]
  },
  {
   "cell_type": "code",
   "execution_count": 46,
   "metadata": {},
   "outputs": [
    {
     "name": "stdout",
     "output_type": "stream",
     "text": [
      "Optimization terminated successfully.\n",
      "         Current function value: 0.278942\n",
      "         Iterations 8\n",
      "                           Logit Regression Results                           \n",
      "==============================================================================\n",
      "Dep. Variable:           EncodedChurn   No. Observations:                10000\n",
      "Model:                          Logit   Df Residuals:                     9986\n",
      "Method:                           MLE   Df Model:                           13\n",
      "Date:                Wed, 20 Oct 2021   Pseudo R-squ.:                  0.5176\n",
      "Time:                        19:18:27   Log-Likelihood:                -2789.4\n",
      "converged:                       True   LL-Null:                       -5782.2\n",
      "Covariance Type:            nonrobust   LLR p-value:                     0.000\n",
      "===========================================================================================\n",
      "                              coef    std err          z      P>|z|      [0.025      0.975]\n",
      "-------------------------------------------------------------------------------------------\n",
      "Children                   -0.3118      0.019    -16.152      0.000      -0.350      -0.274\n",
      "Age                         0.0344      0.002     17.338      0.000       0.031       0.038\n",
      "Tenure                     -0.9144      0.029    -31.442      0.000      -0.971      -0.857\n",
      "EncodedGender              -0.4591      0.070     -6.515      0.000      -0.597      -0.321\n",
      "Bandwidth_GB_Year           0.0100      0.000     29.579      0.000       0.009       0.011\n",
      "EncodedTechie               0.8433      0.088      9.581      0.000       0.671       1.016\n",
      "EncodedContract            -2.0981      0.103    -20.287      0.000      -2.301      -1.895\n",
      "EncodedInternetService     -3.1186      0.148    -21.046      0.000      -3.409      -2.828\n",
      "EncodedMultiple             0.5248      0.070      7.449      0.000       0.387       0.663\n",
      "EncodedOnlineSecurity      -0.9319      0.076    -12.250      0.000      -1.081      -0.783\n",
      "EncodedOnlineBackup        -0.3146      0.073     -4.327      0.000      -0.457      -0.172\n",
      "EncodedDeviceProtection    -0.4808      0.073     -6.617      0.000      -0.623      -0.338\n",
      "EncodedStreamingMovies      0.6269      0.086      7.308      0.000       0.459       0.795\n",
      "intercept                  -4.3808      0.167    -26.218      0.000      -4.708      -4.053\n",
      "===========================================================================================\n"
     ]
    }
   ],
   "source": [
    "newchurns['intercept'] = 1\n",
    "churn_rate = sm.Logit(newchurns['EncodedChurn'], newchurns[['Children', 'Age', 'Tenure',\n",
    "'EncodedGender', 'Bandwidth_GB_Year', 'EncodedTechie', 'EncodedContract',\n",
    "'EncodedInternetService','EncodedMultiple', 'EncodedOnlineSecurity',\n",
    "'EncodedOnlineBackup', 'EncodedDeviceProtection', 'EncodedStreamingMovies','intercept']]).fit()\n",
    "\n",
    "print(churn_rate.summary())"
   ]
  },
  {
   "cell_type": "markdown",
   "metadata": {},
   "source": [
    "**Reduced Logistic Model Regression Equation**\n",
    "\n",
    "y = -4.381 + -0.311*X<sub>1</sub> + 0.0344*X<sub>2</sub> + -0.9144*X<sub>3</sub> + -0.4591*X<sub>4</sub> + -0.0100*X<sub>5</sub> + 0.843*X<sub>6</sub>+ -2.0981*X<sub>7</sub> + -3.1186*X<sub>8</sub> + 0.5248*X<sub>9</sub> + -0.9319*X<sub>10</sub> -0.3146*X<sub>11</sub> -0.4808*X<sub>12</sub> + 0.6269*X<sub>13</sub>"
   ]
  },
  {
   "cell_type": "markdown",
   "metadata": {},
   "source": [
    "### **Comparision of different models**"
   ]
  },
  {
   "cell_type": "markdown",
   "metadata": {},
   "source": [
    "Despite halving the number of variables, the second model still explains 51.76 percent of variance, as proven by the pseudo R. The sign of the coefficient reflects whether the link between each independent and dependent variable is positive or negative. A positive coefficient suggests that as the value of the independent variable grows, the mean of the dependent variable tends to climb as well. A negative coefficient suggests that as the independent variable rises, the dependent variable tends to fall.\n",
    "For example, the longer a consumer stays with a company or whether they have a device protection add-on and internet service, the less likely they are to churn. Stakeholders can improve customer experience and help customers grasp everything the firm is providing them by understanding the inverse correlations between certain inverse variables and the target variable.\n",
    "\n"
   ]
  },
  {
   "cell_type": "markdown",
   "metadata": {},
   "source": [
    "**Development of Confusion Matrix**"
   ]
  },
  {
   "cell_type": "code",
   "execution_count": null,
   "metadata": {},
   "outputs": [],
   "source": [
    "dataset = pd.read_csv('newlogisticchurn.csv')"
   ]
  },
  {
   "cell_type": "code",
   "execution_count": 55,
   "metadata": {},
   "outputs": [],
   "source": [
    "#Define x and y\n",
    "x = dataset.drop(['EncodedChurn', 'Unnamed: 0'], axis = 1).values\n",
    "y = dataset['EncodedChurn'].values"
   ]
  },
  {
   "cell_type": "code",
   "execution_count": 56,
   "metadata": {},
   "outputs": [
    {
     "name": "stdout",
     "output_type": "stream",
     "text": [
      "[[0.000000e+00 6.800000e+01 2.856199e+04 ... 0.000000e+00 1.000000e+00\n",
      "  1.000000e+00]\n",
      " [1.000000e+00 2.700000e+01 2.170477e+04 ... 1.000000e+00 1.000000e+00\n",
      "  1.000000e+00]\n",
      " [4.000000e+00 5.000000e+01 9.609570e+03 ... 0.000000e+00 1.000000e+00\n",
      "  1.000000e+00]\n",
      " ...\n",
      " [1.000000e+00 4.800000e+01 4.598343e+04 ... 0.000000e+00 0.000000e+00\n",
      "  1.000000e+00]\n",
      " [1.000000e+00 3.900000e+01 1.666758e+04 ... 1.000000e+00 1.000000e+00\n",
      "  1.000000e+00]\n",
      " [1.000000e+00 2.800000e+01 9.020920e+03 ... 0.000000e+00 1.000000e+00\n",
      "  1.000000e+00]]\n"
     ]
    }
   ],
   "source": [
    "print(x)"
   ]
  },
  {
   "cell_type": "code",
   "execution_count": 57,
   "metadata": {},
   "outputs": [
    {
     "name": "stdout",
     "output_type": "stream",
     "text": [
      "[0 1 0 ... 0 0 0]\n"
     ]
    }
   ],
   "source": [
    "print(y)"
   ]
  },
  {
   "cell_type": "code",
   "execution_count": 58,
   "metadata": {},
   "outputs": [],
   "source": [
    "#Split the dataset in training set and test set\n",
    "x_train, x_test, y_train, y_test = train_test_split(x,y,test_size = 0.3, random_state = 0)"
   ]
  },
  {
   "cell_type": "code",
   "execution_count": 71,
   "metadata": {},
   "outputs": [
    {
     "data": {
      "text/plain": [
       "LogisticRegression(random_state=0)"
      ]
     },
     "execution_count": 71,
     "metadata": {},
     "output_type": "execute_result"
    }
   ],
   "source": [
    "from sklearn.linear_model import LogisticRegression\n",
    "classify= LogisticRegression(random_state = 0)\n",
    "classify.fit(x_train, y_train)"
   ]
  },
  {
   "cell_type": "code",
   "execution_count": 72,
   "metadata": {},
   "outputs": [],
   "source": [
    "#Predict the test set results\n",
    "y_pred = classify.predict(x_test)"
   ]
  },
  {
   "cell_type": "code",
   "execution_count": 73,
   "metadata": {},
   "outputs": [
    {
     "name": "stdout",
     "output_type": "stream",
     "text": [
      "[[1962  239]\n",
      " [ 270  529]]\n"
     ]
    }
   ],
   "source": [
    "from sklearn.metrics import confusion_matrix\n",
    "cm = confusion_matrix(y_test, y_pred)\n",
    "print(cm)"
   ]
  },
  {
   "cell_type": "code",
   "execution_count": 79,
   "metadata": {},
   "outputs": [],
   "source": [
    "#Extract information from the confusion matrix\n",
    "TN = cm[0,0] #TrueNegative\n",
    "TP = cm[1,1] #TruePositive\n",
    "FN = cm[1,0] #FullNegative \n",
    "FP = cm[0,1] #FullPositive\n"
   ]
  },
  {
   "cell_type": "code",
   "execution_count": 75,
   "metadata": {},
   "outputs": [
    {
     "name": "stdout",
     "output_type": "stream",
     "text": [
      "accuracy 0.7643448910708807\n",
      "sensitivity 0.5\n",
      "specificity 0.8914129940935939\n"
     ]
    }
   ],
   "source": [
    "# Calculate and print the accuracy\n",
    "accuracy = (TN + TP) / (TN + FN + FP + TP)\n",
    "print(\"accuracy\", accuracy)\n",
    "# Calculate and print the sensitivity\n",
    "sensitivity = TP / (TP + FN)\n",
    "print(\"sensitivity\", sensitivity)\n",
    "# Calculate and print the specificity\n",
    "specificity = TN / (TN + FP)\n",
    "print(\"specificity\", specificity)\n"
   ]
  },
  {
   "cell_type": "code",
   "execution_count": 76,
   "metadata": {},
   "outputs": [
    {
     "data": {
      "text/plain": [
       "<AxesSubplot:>"
      ]
     },
     "execution_count": 76,
     "metadata": {},
     "output_type": "execute_result"
    },
    {
     "data": {
      "image/png": "[encoded data removed]",
      "text/plain": [
       "<Figure size 432x288 with 2 Axes>"
      ]
     },
     "metadata": {
      "needs_background": "light"
     },
     "output_type": "display_data"
    }
   ],
   "source": [
    "y_predict_test = classify.predict(x_test)\n",
    "cm2 = confusion_matrix(y_test, y_predict_test)\n",
    "sns.heatmap(cm2, annot=True)"
   ]
  },
  {
   "cell_type": "markdown",
   "metadata": {},
   "source": [
    "**Classification Report**\n"
   ]
  },
  {
   "cell_type": "code",
   "execution_count": 78,
   "metadata": {},
   "outputs": [
    {
     "name": "stdout",
     "output_type": "stream",
     "text": [
      "              precision    recall  f1-score   support\n",
      "\n",
      "           0       0.88      0.89      0.89      2201\n",
      "           1       0.69      0.66      0.68       799\n",
      "\n",
      "    accuracy                           0.83      3000\n",
      "   macro avg       0.78      0.78      0.78      3000\n",
      "weighted avg       0.83      0.83      0.83      3000\n",
      "\n"
     ]
    }
   ],
   "source": [
    "from sklearn.metrics import classification_report\n",
    "print(classification_report(y_test, y_predict_test))\n"
   ]
  },
  {
   "cell_type": "markdown",
   "metadata": {},
   "source": [
    "### **Results**\n",
    "Reduced Logistic Regression Equation Model: y = -4.381 + -0.311*X<sub>1</sub> + 0.0344*X<sub>2</sub> + -0.9144*X<sub>3</sub> + -0.4591*X<sub>4</sub> + -0.0100*X<sub>5</sub> + 0.843*X<sub>6</sub>+ -2.0981*X<sub>7</sub> + -3.1186*X<sub>8</sub> + 0.5248*X<sub>9</sub> + -0.9319*X<sub>10</sub> -0.3146*X<sub>11</sub> -0.4808*X<sub>12</sub> + 0.6269*X<sub>13</sub>"
   ]
  },
  {
   "cell_type": "markdown",
   "metadata": {},
   "source": [
    "### **Recommendations**\n",
    "It's critical for marketers and decision-makers to understand that some of our predictor variables and our goal variable, Churn, are inversely related. This means that as a consumer subscribes to more services from the organization, they are less likely to leave or churn.\n",
    "Clearly, it is in the company's best interests to provide additional services to customers and improve their overall experience by supporting them in understanding all of the options available to them as a subscriber, not just mobile phone service. \n",
    "Individuals with contracts are less likely to leave the organization, thus we propose spending more on marketing efforts for contract usage and internet services.\n",
    "Also, because there is a direct linear relationship between bandwidth used annually and telecom company tenure, it makes sense to recommend that the company use all of its marketing and customer service resources to keep the customers it has acquired, as the longer they stay with the company, the more bandwidth they tend to use. This would entail making sure that client issues are quickly resolved and that the equipment provided is of high quality in order to limit the frequency of equipment replacements. Clients that stay with the telecom firm for more than 5 years may be eligible for a discount.\n",
    "The more time a customer spends using data, the more likely bandwidth limits may be raised. Stakeholders must emphasize the client's needs and develop their resources in order for the customer to stay with the company for as long as feasible.\n",
    "\n"
   ]
  },
  {
   "cell_type": "markdown",
   "metadata": {},
   "source": [
    "### **Sources for Third-Party Code**\n",
    "* Pitsillides91. (n.d.). Python-Tutorials/Introduction to ML - Logistic Regression Example at master · Pitsillides91/Python-Tutorials. Retrieved from https://github.com/Pitsillides91/Python-Tutorials/tree/master/Introduction to ML - Logistic Regression Example\n",
    "* D. (2019, September 26). How to Perform Logistic Regression in Python(Step by Step). Data Science. https://www.datarmatics.com/data-science/how-to-perform-logistic-regression-in-pythonstep-by-step/"
   ]
  },
  {
   "cell_type": "markdown",
   "metadata": {},
   "source": [
    "### **Sources**"
   ]
  },
  {
   "cell_type": "markdown",
   "metadata": {},
   "source": [
    "* StatQuest: Logistic Regression. (2018, March 5). YouTube. https://www.youtube.com/watch?v=yIYKR4sgzI8&ab_channel=StatQuestwithJoshStarmer\n",
    "* Statistics 101: Logistic Regression, An Introduction. (2015, March 9). YouTube. https://www.youtube.com/watch?v=zAULhNrnuL4&ab_channel=BrandonFoltz\n"
   ]
  }
 ],
 "metadata": {
  "interpreter": {
   "hash": "8a77d557642c3a348bf667debe7ccd32e502f3953c4ed2dcf0c6c8536a1ec652"
  },
  "kernelspec": {
   "display_name": "Python 3.9.6 64-bit ('ds': conda)",
   "name": "python3"
  },
  "language_info": {
   "codemirror_mode": {
    "name": "ipython",
    "version": 3
   },
   "file_extension": ".py",
   "mimetype": "text/x-python",
   "name": "python",
   "nbconvert_exporter": "python",
   "pygments_lexer": "ipython3",
   "version": "3.9.6"
  },
  "orig_nbformat": 4
 },
 "nbformat": 4,
 "nbformat_minor": 2
}
