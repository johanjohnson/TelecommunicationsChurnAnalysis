{
 "cells": [
  {
   "cell_type": "markdown",
   "metadata": {},
   "source": [
    "<h3><b>Association Rule and Lift Analysis</b></h3>"
   ]
  },
  {
   "cell_type": "markdown",
   "metadata": {},
   "source": [
    "A1. Proposal of Question: \n",
    "What are the products that, when combined with discounts, could lower customer churn? For instance, can we learn more about which products, if supplied at a deal with our services, can make us more popular with customers by studying a list of transactions?"
   ]
  },
  {
   "cell_type": "markdown",
   "metadata": {},
   "source": [
    "A2. Objective: With some degree of confidence, the company's stakeholders will gain from knowing which customers are most likely to churn. This information will help them decide how to market improved services to customers who fit these criteria and have a history of dissatisfaction. This data analysis aims to showcase discounted products for company stakeholders to consider when coming up with consumer incentives and marketing promotions. We will work to make decision-makers more aware of certain feature combinations—items used in conjunction with telecom services—to lower the risk of churn among their clients."
   ]
  },
  {
   "cell_type": "markdown",
   "metadata": {},
   "source": [
    "B1. Theory Behind Market Basket Analysis:"
   ]
  },
  {
   "cell_type": "markdown",
   "metadata": {},
   "source": [
    "Market basket analysis is one of the most critical methods for identifying item correlations. It operates by looking for product combinations that regularly appear together in transactions. This investigation aims to determine which telecom peripheral and ICT tool combinations people prefer and most frequently buy. To show the connections between these various things, we will attempt to pinpoint the ones that are most commonly purchased in pairs. We anticipate finding the ideal set of products to combine with our services and provide a discount. Preparing the dataset to find missing values is part of our analysis method. The Apriori method will be used to discover association rules. Then later, the lift, support, and confidence rules are verified."
   ]
  },
  {
   "cell_type": "markdown",
   "metadata": {},
   "source": [
    "B2. Transaction Example: \n",
    "The transactions in the provided dataset can be quickly identified. A longer list of twenty goods appears in the very first transaction, including:\n",
    "* Wireless mouse made by Logitech\n",
    "* Nonda HP 63 ink\n",
    "* HP 65 ink \n",
    "* USB Type C cable\n",
    "* 10-foot iPhone charger cable \n",
    "* USB C to USB adapter\n",
    "* Creative Pebble 2.0 Speakers \n",
    "* HP 902XL ink\n",
    "* Cosmetic Gel Micro Center\n",
    "* 32GB Memory card \n",
    "* Universal Dust Cleaner\n",
    "* 3pack 6ft Nylon Lightning Cable from YUNSONG\n",
    "* Cooler pad (TopMate)\n",
    "* USB-C cable for charging. Product by Apple\n",
    "* Cloud Stinger headset by HyperX\n",
    "* TONOR USB Gaming Microphone \n",
    "* Compressed Gas Dust-Off\n",
    "* iPhone Charger (HOVAMP)\n",
    "* SanDisk Ultra 128GB card\n",
    "* FEEL2NICE 10ft Lightning cable\n",
    "* Blue-light-blocking glasses from FEIYOLD\n",
    "\n",
    "One client made simultaneous purchases of all twenty of these goods."
   ]
  },
  {
   "cell_type": "markdown",
   "metadata": {},
   "source": [
    "B3. Assumption for Market Basket Analysis (MBA):"
   ]
  },
  {
   "cell_type": "markdown",
   "metadata": {},
   "source": [
    "Making decisions based on building association regulations is one of the MBA's presumptions. Dr. Susan Sivek says that these guidelines \"are merely connections between \"antecedent\" and \"consequent\" items. Additionally, association rules only suggest co-occurrence and not causality \" (Sivek, p. 1). The purchase of one will prompt the purchase of the others."
   ]
  },
  {
   "cell_type": "markdown",
   "metadata": {},
   "source": [
    "C1. Transforming the Dataset for Market Basket Analysis:"
   ]
  },
  {
   "cell_type": "code",
   "execution_count": 2,
   "metadata": {},
   "outputs": [],
   "source": [
    "import pandas as pd"
   ]
  },
  {
   "cell_type": "code",
   "execution_count": 3,
   "metadata": {},
   "outputs": [],
   "source": [
    "telecompany = pd.read_csv('teleco_market_basket.csv')\n"
   ]
  },
  {
   "cell_type": "code",
   "execution_count": 4,
   "metadata": {},
   "outputs": [],
   "source": [
    "null_values= telecompany.isnull().sum()"
   ]
  },
  {
   "cell_type": "code",
   "execution_count": 5,
   "metadata": {},
   "outputs": [],
   "source": [
    "telecompany.dropna(how = 'all', inplace = True)"
   ]
  },
  {
   "cell_type": "code",
   "execution_count": 6,
   "metadata": {},
   "outputs": [],
   "source": [
    "telecompany.fillna(0, inplace = True)"
   ]
  },
  {
   "cell_type": "code",
   "execution_count": 7,
   "metadata": {},
   "outputs": [
    {
     "data": {
      "text/plain": [
       "(7501, 20)"
      ]
     },
     "execution_count": 7,
     "metadata": {},
     "output_type": "execute_result"
    }
   ],
   "source": [
    "telecompany.shape"
   ]
  },
  {
   "cell_type": "code",
   "execution_count": 8,
   "metadata": {},
   "outputs": [],
   "source": [
    "#Convert dataset into list format for the use of Apriori algorithm\n",
    "\n",
    "listed = []\n",
    "for x in range(0, 7501):\n",
    " listed.append([str(telecompany.values[x, y]) for y in range(0, 20)])\n",
    "telecompany_cleaned = pd.DataFrame(listed)"
   ]
  },
  {
   "cell_type": "code",
   "execution_count": 9,
   "metadata": {},
   "outputs": [],
   "source": [
    "telecompany_cleaned.to_csv('prepared.csv')"
   ]
  },
  {
   "cell_type": "code",
   "execution_count": 10,
   "metadata": {},
   "outputs": [
    {
     "data": {
      "text/plain": [
       "[['Logitech M510 Wireless mouse',\n",
       "  'HP 63 Ink',\n",
       "  'HP 65 ink',\n",
       "  'nonda USB C to USB Adapter',\n",
       "  '10ft iPHone Charger Cable',\n",
       "  'HP 902XL ink',\n",
       "  'Creative Pebble 2.0 Speakers',\n",
       "  'Cleaning Gel Universal Dust Cleaner',\n",
       "  'Micro Center 32GB Memory card',\n",
       "  'YUNSONG 3pack 6ft Nylon Lightning Cable',\n",
       "  'TopMate C5 Laptop Cooler pad',\n",
       "  'Apple USB-C Charger cable',\n",
       "  'HyperX Cloud Stinger Headset',\n",
       "  'TONOR USB Gaming Microphone',\n",
       "  'Dust-Off Compressed Gas 2 pack',\n",
       "  '3A USB Type C Cable 3 pack 6FT',\n",
       "  'HOVAMP iPhone charger',\n",
       "  'SanDisk Ultra 128GB card',\n",
       "  'FEEL2NICE 5 pack 10ft Lighning cable',\n",
       "  'FEIYOLD Blue light Blocking Glasses']]"
      ]
     },
     "execution_count": 10,
     "metadata": {},
     "output_type": "execute_result"
    }
   ],
   "source": [
    "listed[:1]"
   ]
  },
  {
   "cell_type": "markdown",
   "metadata": {},
   "source": [
    "C2: Execution"
   ]
  },
  {
   "cell_type": "code",
   "execution_count": 11,
   "metadata": {},
   "outputs": [],
   "source": [
    "# from the Apriori algorithm, produce association rules\n",
    "from apyori import apriori\n",
    "#on the dataset, practice the Apriori algorithm.\n",
    "rules= apriori(listed, min_support = 0.0035, min_confidence = 0.22, min_lift = 3, min_length = 2)"
   ]
  },
  {
   "cell_type": "code",
   "execution_count": 12,
   "metadata": {},
   "outputs": [],
   "source": [
    "# Review and produce rules\n",
    "rules= list(rules)"
   ]
  },
  {
   "cell_type": "code",
   "execution_count": 13,
   "metadata": {},
   "outputs": [
    {
     "name": "stdout",
     "output_type": "stream",
     "text": [
      "84\n"
     ]
    }
   ],
   "source": [
    "print(len(rules))"
   ]
  },
  {
   "cell_type": "code",
   "execution_count": 14,
   "metadata": {},
   "outputs": [],
   "source": [
    " # Transform results into DataFrame structure\n",
    "results_1 = pd.DataFrame(rules)"
   ]
  },
  {
   "cell_type": "code",
   "execution_count": 15,
   "metadata": {},
   "outputs": [
    {
     "data": {
      "text/html": [
       "<div>\n",
       "<style scoped>\n",
       "    .dataframe tbody tr th:only-of-type {\n",
       "        vertical-align: middle;\n",
       "    }\n",
       "\n",
       "    .dataframe tbody tr th {\n",
       "        vertical-align: top;\n",
       "    }\n",
       "\n",
       "    .dataframe thead th {\n",
       "        text-align: right;\n",
       "    }\n",
       "</style>\n",
       "<table border=\"1\" class=\"dataframe\">\n",
       "  <thead>\n",
       "    <tr style=\"text-align: right;\">\n",
       "      <th></th>\n",
       "      <th>items</th>\n",
       "      <th>support</th>\n",
       "      <th>ordered_statistics</th>\n",
       "    </tr>\n",
       "  </thead>\n",
       "  <tbody>\n",
       "    <tr>\n",
       "      <th>0</th>\n",
       "      <td>(HP 63XL Ink, 5pack Nylon Braided USB C cables)</td>\n",
       "      <td>0.005733</td>\n",
       "      <td>[((5pack Nylon Braided USB C cables), (HP 63XL...</td>\n",
       "    </tr>\n",
       "    <tr>\n",
       "      <th>1</th>\n",
       "      <td>(Anker 2-in-1 USB Card Reader, FEIYOLD Blue li...</td>\n",
       "      <td>0.007999</td>\n",
       "      <td>[((Anker 2-in-1 USB Card Reader), (FEIYOLD Blu...</td>\n",
       "    </tr>\n",
       "    <tr>\n",
       "      <th>2</th>\n",
       "      <td>(Falcon Dust Off Compressed Gas, Apple Lightni...</td>\n",
       "      <td>0.004533</td>\n",
       "      <td>[((Apple Lightning to USB cable), (Falcon Dust...</td>\n",
       "    </tr>\n",
       "    <tr>\n",
       "      <th>3</th>\n",
       "      <td>(AutoFocus 1080p Webcam, SanDisk Ultra 64GB card)</td>\n",
       "      <td>0.005333</td>\n",
       "      <td>[((AutoFocus 1080p Webcam), (SanDisk Ultra 64G...</td>\n",
       "    </tr>\n",
       "    <tr>\n",
       "      <th>4</th>\n",
       "      <td>(iPhone 11 case, HP 63XL Ink)</td>\n",
       "      <td>0.005866</td>\n",
       "      <td>[((iPhone 11 case), (HP 63XL Ink), 0.372881355...</td>\n",
       "    </tr>\n",
       "    <tr>\n",
       "      <th>...</th>\n",
       "      <td>...</td>\n",
       "      <td>...</td>\n",
       "      <td>...</td>\n",
       "    </tr>\n",
       "    <tr>\n",
       "      <th>79</th>\n",
       "      <td>(Dust-Off Compressed Gas 2 pack, 0, HP 61 ink,...</td>\n",
       "      <td>0.003866</td>\n",
       "      <td>[((HP 61 ink, FEIYOLD Blue light Blocking Glas...</td>\n",
       "    </tr>\n",
       "    <tr>\n",
       "      <th>80</th>\n",
       "      <td>(Dust-Off Compressed Gas 2 pack, 0, HP 61 ink,...</td>\n",
       "      <td>0.003999</td>\n",
       "      <td>[((HP 61 ink, Dust-Off Compressed Gas 2 pack, ...</td>\n",
       "    </tr>\n",
       "    <tr>\n",
       "      <th>81</th>\n",
       "      <td>(SanDisk Ultra 64GB card, Dust-Off Compressed ...</td>\n",
       "      <td>0.003733</td>\n",
       "      <td>[((SanDisk Ultra 64GB card, Nylon Braided Ligh...</td>\n",
       "    </tr>\n",
       "    <tr>\n",
       "      <th>82</th>\n",
       "      <td>(SanDisk Ultra 64GB card, Dust-Off Compressed ...</td>\n",
       "      <td>0.004399</td>\n",
       "      <td>[((SanDisk Ultra 64GB card, Nylon Braided Ligh...</td>\n",
       "    </tr>\n",
       "    <tr>\n",
       "      <th>83</th>\n",
       "      <td>(Dust-Off Compressed Gas 2 pack, 0, VIVO Dual ...</td>\n",
       "      <td>0.004533</td>\n",
       "      <td>[((Dust-Off Compressed Gas 2 pack, VIVO Dual L...</td>\n",
       "    </tr>\n",
       "  </tbody>\n",
       "</table>\n",
       "<p>84 rows × 3 columns</p>\n",
       "</div>"
      ],
      "text/plain": [
       "                                                items   support  \\\n",
       "0     (HP 63XL Ink, 5pack Nylon Braided USB C cables)  0.005733   \n",
       "1   (Anker 2-in-1 USB Card Reader, FEIYOLD Blue li...  0.007999   \n",
       "2   (Falcon Dust Off Compressed Gas, Apple Lightni...  0.004533   \n",
       "3   (AutoFocus 1080p Webcam, SanDisk Ultra 64GB card)  0.005333   \n",
       "4                       (iPhone 11 case, HP 63XL Ink)  0.005866   \n",
       "..                                                ...       ...   \n",
       "79  (Dust-Off Compressed Gas 2 pack, 0, HP 61 ink,...  0.003866   \n",
       "80  (Dust-Off Compressed Gas 2 pack, 0, HP 61 ink,...  0.003999   \n",
       "81  (SanDisk Ultra 64GB card, Dust-Off Compressed ...  0.003733   \n",
       "82  (SanDisk Ultra 64GB card, Dust-Off Compressed ...  0.004399   \n",
       "83  (Dust-Off Compressed Gas 2 pack, 0, VIVO Dual ...  0.004533   \n",
       "\n",
       "                                   ordered_statistics  \n",
       "0   [((5pack Nylon Braided USB C cables), (HP 63XL...  \n",
       "1   [((Anker 2-in-1 USB Card Reader), (FEIYOLD Blu...  \n",
       "2   [((Apple Lightning to USB cable), (Falcon Dust...  \n",
       "3   [((AutoFocus 1080p Webcam), (SanDisk Ultra 64G...  \n",
       "4   [((iPhone 11 case), (HP 63XL Ink), 0.372881355...  \n",
       "..                                                ...  \n",
       "79  [((HP 61 ink, FEIYOLD Blue light Blocking Glas...  \n",
       "80  [((HP 61 ink, Dust-Off Compressed Gas 2 pack, ...  \n",
       "81  [((SanDisk Ultra 64GB card, Nylon Braided Ligh...  \n",
       "82  [((SanDisk Ultra 64GB card, Nylon Braided Ligh...  \n",
       "83  [((Dust-Off Compressed Gas 2 pack, VIVO Dual L...  \n",
       "\n",
       "[84 rows x 3 columns]"
      ]
     },
     "execution_count": 15,
     "metadata": {},
     "output_type": "execute_result"
    }
   ],
   "source": [
    "results_1"
   ]
  },
  {
   "cell_type": "code",
   "execution_count": 16,
   "metadata": {},
   "outputs": [],
   "source": [
    "supportz = results_1.support"
   ]
  },
  {
   "cell_type": "code",
   "execution_count": 17,
   "metadata": {},
   "outputs": [],
   "source": [
    "\n",
    "one_val = []\n",
    "two_val = []\n",
    "three_val = []\n",
    "four_val= []"
   ]
  },
  {
   "cell_type": "code",
   "execution_count": 18,
   "metadata": {},
   "outputs": [],
   "source": [
    "# Establish a for loop to cycle through a list.\n",
    "for i in range(results_1.shape[0]):\n",
    " listz = results_1['ordered_statistics'][i][0]\n",
    " one_val.append(list(listz[0]))\n",
    " two_val.append(list(listz[1]))\n",
    " three_val.append(listz[2])\n",
    " four_val.append(listz[3])"
   ]
  },
  {
   "cell_type": "code",
   "execution_count": 19,
   "metadata": {},
   "outputs": [],
   "source": [
    "\n",
    "lhs = pd.DataFrame(one_val)\n",
    "rhs = pd.DataFrame(two_val)\n",
    "confidence = pd.DataFrame(three_val, columns=['confidence'])\n",
    "lift = pd.DataFrame(four_val, columns=['lift'])"
   ]
  },
  {
   "cell_type": "code",
   "execution_count": 20,
   "metadata": {},
   "outputs": [],
   "source": [
    "\n",
    "finalz= pd.concat([lhs, rhs, supportz, confidence, lift], axis=1)\n",
    "finalz.fillna(value=' ', inplace=True)"
   ]
  },
  {
   "cell_type": "code",
   "execution_count": 21,
   "metadata": {},
   "outputs": [
    {
     "data": {
      "text/html": [
       "<div>\n",
       "<style scoped>\n",
       "    .dataframe tbody tr th:only-of-type {\n",
       "        vertical-align: middle;\n",
       "    }\n",
       "\n",
       "    .dataframe tbody tr th {\n",
       "        vertical-align: top;\n",
       "    }\n",
       "\n",
       "    .dataframe thead th {\n",
       "        text-align: right;\n",
       "    }\n",
       "</style>\n",
       "<table border=\"1\" class=\"dataframe\">\n",
       "  <thead>\n",
       "    <tr style=\"text-align: right;\">\n",
       "      <th></th>\n",
       "      <th>0</th>\n",
       "      <th>1</th>\n",
       "      <th>2</th>\n",
       "      <th>0</th>\n",
       "      <th>1</th>\n",
       "      <th>2</th>\n",
       "      <th>support</th>\n",
       "      <th>confidence</th>\n",
       "      <th>lift</th>\n",
       "    </tr>\n",
       "  </thead>\n",
       "  <tbody>\n",
       "    <tr>\n",
       "      <th>0</th>\n",
       "      <td>5pack Nylon Braided USB C cables</td>\n",
       "      <td></td>\n",
       "      <td></td>\n",
       "      <td>HP 63XL Ink</td>\n",
       "      <td></td>\n",
       "      <td></td>\n",
       "      <td>0.005733</td>\n",
       "      <td>0.300699</td>\n",
       "      <td>3.790833</td>\n",
       "    </tr>\n",
       "    <tr>\n",
       "      <th>1</th>\n",
       "      <td>Anker 2-in-1 USB Card Reader</td>\n",
       "      <td></td>\n",
       "      <td></td>\n",
       "      <td>FEIYOLD Blue light Blocking Glasses</td>\n",
       "      <td></td>\n",
       "      <td></td>\n",
       "      <td>0.007999</td>\n",
       "      <td>0.271493</td>\n",
       "      <td>4.122410</td>\n",
       "    </tr>\n",
       "    <tr>\n",
       "      <th>2</th>\n",
       "      <td>Apple Lightning to USB cable</td>\n",
       "      <td></td>\n",
       "      <td></td>\n",
       "      <td>Falcon Dust Off Compressed Gas</td>\n",
       "      <td></td>\n",
       "      <td></td>\n",
       "      <td>0.004533</td>\n",
       "      <td>0.290598</td>\n",
       "      <td>4.843951</td>\n",
       "    </tr>\n",
       "    <tr>\n",
       "      <th>3</th>\n",
       "      <td>AutoFocus 1080p Webcam</td>\n",
       "      <td></td>\n",
       "      <td></td>\n",
       "      <td>SanDisk Ultra 64GB card</td>\n",
       "      <td></td>\n",
       "      <td></td>\n",
       "      <td>0.005333</td>\n",
       "      <td>0.377358</td>\n",
       "      <td>3.840659</td>\n",
       "    </tr>\n",
       "    <tr>\n",
       "      <th>4</th>\n",
       "      <td>iPhone 11 case</td>\n",
       "      <td></td>\n",
       "      <td></td>\n",
       "      <td>HP 63XL Ink</td>\n",
       "      <td></td>\n",
       "      <td></td>\n",
       "      <td>0.005866</td>\n",
       "      <td>0.372881</td>\n",
       "      <td>4.700812</td>\n",
       "    </tr>\n",
       "    <tr>\n",
       "      <th>...</th>\n",
       "      <td>...</td>\n",
       "      <td>...</td>\n",
       "      <td>...</td>\n",
       "      <td>...</td>\n",
       "      <td>...</td>\n",
       "      <td>...</td>\n",
       "      <td>...</td>\n",
       "      <td>...</td>\n",
       "      <td>...</td>\n",
       "    </tr>\n",
       "    <tr>\n",
       "      <th>79</th>\n",
       "      <td>HP 61 ink</td>\n",
       "      <td>FEIYOLD Blue light Blocking Glasses</td>\n",
       "      <td></td>\n",
       "      <td>0</td>\n",
       "      <td>Dust-Off Compressed Gas 2 pack</td>\n",
       "      <td>VIVO Dual LCD Monitor Desk mount</td>\n",
       "      <td>0.003866</td>\n",
       "      <td>0.235772</td>\n",
       "      <td>3.947608</td>\n",
       "    </tr>\n",
       "    <tr>\n",
       "      <th>80</th>\n",
       "      <td>HP 61 ink</td>\n",
       "      <td>Dust-Off Compressed Gas 2 pack</td>\n",
       "      <td>Nylon Braided Lightning to USB cable</td>\n",
       "      <td>0</td>\n",
       "      <td>Screen Mom Screen Cleaner kit</td>\n",
       "      <td></td>\n",
       "      <td>0.003999</td>\n",
       "      <td>0.410959</td>\n",
       "      <td>3.171402</td>\n",
       "    </tr>\n",
       "    <tr>\n",
       "      <th>81</th>\n",
       "      <td>SanDisk Ultra 64GB card</td>\n",
       "      <td>Nylon Braided Lightning to USB cable</td>\n",
       "      <td></td>\n",
       "      <td>0</td>\n",
       "      <td>Dust-Off Compressed Gas 2 pack</td>\n",
       "      <td>Screen Mom Screen Cleaner kit</td>\n",
       "      <td>0.003733</td>\n",
       "      <td>0.220472</td>\n",
       "      <td>4.593788</td>\n",
       "    </tr>\n",
       "    <tr>\n",
       "      <th>82</th>\n",
       "      <td>SanDisk Ultra 64GB card</td>\n",
       "      <td>Nylon Braided Lightning to USB cable</td>\n",
       "      <td></td>\n",
       "      <td>0</td>\n",
       "      <td>Dust-Off Compressed Gas 2 pack</td>\n",
       "      <td>VIVO Dual LCD Monitor Desk mount</td>\n",
       "      <td>0.004399</td>\n",
       "      <td>0.259843</td>\n",
       "      <td>4.350622</td>\n",
       "    </tr>\n",
       "    <tr>\n",
       "      <th>83</th>\n",
       "      <td>Dust-Off Compressed Gas 2 pack</td>\n",
       "      <td>VIVO Dual LCD Monitor Desk mount</td>\n",
       "      <td>Screen Mom Screen Cleaner kit</td>\n",
       "      <td>0</td>\n",
       "      <td>Nylon Braided Lightning to USB cable</td>\n",
       "      <td></td>\n",
       "      <td>0.004533</td>\n",
       "      <td>0.288136</td>\n",
       "      <td>3.022804</td>\n",
       "    </tr>\n",
       "  </tbody>\n",
       "</table>\n",
       "<p>84 rows × 9 columns</p>\n",
       "</div>"
      ],
      "text/plain": [
       "                                   0                                     1  \\\n",
       "0   5pack Nylon Braided USB C cables                                         \n",
       "1       Anker 2-in-1 USB Card Reader                                         \n",
       "2       Apple Lightning to USB cable                                         \n",
       "3             AutoFocus 1080p Webcam                                         \n",
       "4                     iPhone 11 case                                         \n",
       "..                               ...                                   ...   \n",
       "79                         HP 61 ink   FEIYOLD Blue light Blocking Glasses   \n",
       "80                         HP 61 ink        Dust-Off Compressed Gas 2 pack   \n",
       "81           SanDisk Ultra 64GB card  Nylon Braided Lightning to USB cable   \n",
       "82           SanDisk Ultra 64GB card  Nylon Braided Lightning to USB cable   \n",
       "83    Dust-Off Compressed Gas 2 pack      VIVO Dual LCD Monitor Desk mount   \n",
       "\n",
       "                                       2                                    0  \\\n",
       "0                                                                 HP 63XL Ink   \n",
       "1                                         FEIYOLD Blue light Blocking Glasses   \n",
       "2                                              Falcon Dust Off Compressed Gas   \n",
       "3                                                     SanDisk Ultra 64GB card   \n",
       "4                                                                 HP 63XL Ink   \n",
       "..                                   ...                                  ...   \n",
       "79                                                                          0   \n",
       "80  Nylon Braided Lightning to USB cable                                    0   \n",
       "81                                                                          0   \n",
       "82                                                                          0   \n",
       "83         Screen Mom Screen Cleaner kit                                    0   \n",
       "\n",
       "                                       1                                 2  \\\n",
       "0                                                                            \n",
       "1                                                                            \n",
       "2                                                                            \n",
       "3                                                                            \n",
       "4                                                                            \n",
       "..                                   ...                               ...   \n",
       "79        Dust-Off Compressed Gas 2 pack  VIVO Dual LCD Monitor Desk mount   \n",
       "80         Screen Mom Screen Cleaner kit                                     \n",
       "81        Dust-Off Compressed Gas 2 pack     Screen Mom Screen Cleaner kit   \n",
       "82        Dust-Off Compressed Gas 2 pack  VIVO Dual LCD Monitor Desk mount   \n",
       "83  Nylon Braided Lightning to USB cable                                     \n",
       "\n",
       "     support  confidence      lift  \n",
       "0   0.005733    0.300699  3.790833  \n",
       "1   0.007999    0.271493  4.122410  \n",
       "2   0.004533    0.290598  4.843951  \n",
       "3   0.005333    0.377358  3.840659  \n",
       "4   0.005866    0.372881  4.700812  \n",
       "..       ...         ...       ...  \n",
       "79  0.003866    0.235772  3.947608  \n",
       "80  0.003999    0.410959  3.171402  \n",
       "81  0.003733    0.220472  4.593788  \n",
       "82  0.004399    0.259843  4.350622  \n",
       "83  0.004533    0.288136  3.022804  \n",
       "\n",
       "[84 rows x 9 columns]"
      ]
     },
     "execution_count": 21,
     "metadata": {},
     "output_type": "execute_result"
    }
   ],
   "source": [
    "\n",
    "finalz\n"
   ]
  },
  {
   "cell_type": "markdown",
   "metadata": {},
   "source": [
    "C3. Association Rules Table:"
   ]
  },
  {
   "cell_type": "code",
   "execution_count": 22,
   "metadata": {},
   "outputs": [
    {
     "data": {
      "text/html": [
       "<div>\n",
       "<style scoped>\n",
       "    .dataframe tbody tr th:only-of-type {\n",
       "        vertical-align: middle;\n",
       "    }\n",
       "\n",
       "    .dataframe tbody tr th {\n",
       "        vertical-align: top;\n",
       "    }\n",
       "\n",
       "    .dataframe thead th {\n",
       "        text-align: right;\n",
       "    }\n",
       "</style>\n",
       "<table border=\"1\" class=\"dataframe\">\n",
       "  <thead>\n",
       "    <tr style=\"text-align: right;\">\n",
       "      <th></th>\n",
       "      <th>lhs</th>\n",
       "      <th>rhs</th>\n",
       "      <th>support</th>\n",
       "      <th>confidence</th>\n",
       "      <th>lift</th>\n",
       "    </tr>\n",
       "  </thead>\n",
       "  <tbody>\n",
       "    <tr>\n",
       "      <th>0</th>\n",
       "      <td>5pack Nylon Braided USB C cables</td>\n",
       "      <td>HP 63XL Ink</td>\n",
       "      <td>0.005733</td>\n",
       "      <td>0.300699</td>\n",
       "      <td>3.790833</td>\n",
       "    </tr>\n",
       "    <tr>\n",
       "      <th>1</th>\n",
       "      <td>Anker 2-in-1 USB Card Reader</td>\n",
       "      <td>FEIYOLD Blue light Blocking Glasses</td>\n",
       "      <td>0.007999</td>\n",
       "      <td>0.271493</td>\n",
       "      <td>4.122410</td>\n",
       "    </tr>\n",
       "    <tr>\n",
       "      <th>2</th>\n",
       "      <td>Apple Lightning to USB cable</td>\n",
       "      <td>Falcon Dust Off Compressed Gas</td>\n",
       "      <td>0.004533</td>\n",
       "      <td>0.290598</td>\n",
       "      <td>4.843951</td>\n",
       "    </tr>\n",
       "    <tr>\n",
       "      <th>3</th>\n",
       "      <td>AutoFocus 1080p Webcam</td>\n",
       "      <td>SanDisk Ultra 64GB card</td>\n",
       "      <td>0.005333</td>\n",
       "      <td>0.377358</td>\n",
       "      <td>3.840659</td>\n",
       "    </tr>\n",
       "    <tr>\n",
       "      <th>4</th>\n",
       "      <td>iPhone 11 case</td>\n",
       "      <td>HP 63XL Ink</td>\n",
       "      <td>0.005866</td>\n",
       "      <td>0.372881</td>\n",
       "      <td>4.700812</td>\n",
       "    </tr>\n",
       "    <tr>\n",
       "      <th>...</th>\n",
       "      <td>...</td>\n",
       "      <td>...</td>\n",
       "      <td>...</td>\n",
       "      <td>...</td>\n",
       "      <td>...</td>\n",
       "    </tr>\n",
       "    <tr>\n",
       "      <th>79</th>\n",
       "      <td>HP 61 ink</td>\n",
       "      <td>0</td>\n",
       "      <td>0.003866</td>\n",
       "      <td>0.235772</td>\n",
       "      <td>3.947608</td>\n",
       "    </tr>\n",
       "    <tr>\n",
       "      <th>80</th>\n",
       "      <td>HP 61 ink</td>\n",
       "      <td>0</td>\n",
       "      <td>0.003999</td>\n",
       "      <td>0.410959</td>\n",
       "      <td>3.171402</td>\n",
       "    </tr>\n",
       "    <tr>\n",
       "      <th>81</th>\n",
       "      <td>SanDisk Ultra 64GB card</td>\n",
       "      <td>0</td>\n",
       "      <td>0.003733</td>\n",
       "      <td>0.220472</td>\n",
       "      <td>4.593788</td>\n",
       "    </tr>\n",
       "    <tr>\n",
       "      <th>82</th>\n",
       "      <td>SanDisk Ultra 64GB card</td>\n",
       "      <td>0</td>\n",
       "      <td>0.004399</td>\n",
       "      <td>0.259843</td>\n",
       "      <td>4.350622</td>\n",
       "    </tr>\n",
       "    <tr>\n",
       "      <th>83</th>\n",
       "      <td>Dust-Off Compressed Gas 2 pack</td>\n",
       "      <td>0</td>\n",
       "      <td>0.004533</td>\n",
       "      <td>0.288136</td>\n",
       "      <td>3.022804</td>\n",
       "    </tr>\n",
       "  </tbody>\n",
       "</table>\n",
       "<p>84 rows × 5 columns</p>\n",
       "</div>"
      ],
      "text/plain": [
       "                                 lhs                                  rhs  \\\n",
       "0   5pack Nylon Braided USB C cables                          HP 63XL Ink   \n",
       "1       Anker 2-in-1 USB Card Reader  FEIYOLD Blue light Blocking Glasses   \n",
       "2       Apple Lightning to USB cable       Falcon Dust Off Compressed Gas   \n",
       "3             AutoFocus 1080p Webcam              SanDisk Ultra 64GB card   \n",
       "4                     iPhone 11 case                          HP 63XL Ink   \n",
       "..                               ...                                  ...   \n",
       "79                         HP 61 ink                                    0   \n",
       "80                         HP 61 ink                                    0   \n",
       "81           SanDisk Ultra 64GB card                                    0   \n",
       "82           SanDisk Ultra 64GB card                                    0   \n",
       "83    Dust-Off Compressed Gas 2 pack                                    0   \n",
       "\n",
       "     support  confidence      lift  \n",
       "0   0.005733    0.300699  3.790833  \n",
       "1   0.007999    0.271493  4.122410  \n",
       "2   0.004533    0.290598  4.843951  \n",
       "3   0.005333    0.377358  3.840659  \n",
       "4   0.005866    0.372881  4.700812  \n",
       "..       ...         ...       ...  \n",
       "79  0.003866    0.235772  3.947608  \n",
       "80  0.003999    0.410959  3.171402  \n",
       "81  0.003733    0.220472  4.593788  \n",
       "82  0.004399    0.259843  4.350622  \n",
       "83  0.004533    0.288136  3.022804  \n",
       "\n",
       "[84 rows x 5 columns]"
      ]
     },
     "execution_count": 22,
     "metadata": {},
     "output_type": "execute_result"
    }
   ],
   "source": [
    "finalz.columns = ['lhs', 1, 2, 'rhs', 1, 2, 'support', 'confidence', 'lift']\n",
    "finalzz = finalz[['lhs', 'rhs', 'support', 'confidence', 'lift']]\n",
    "finalzz"
   ]
  },
  {
   "cell_type": "markdown",
   "metadata": {},
   "source": [
    "We can demonstrate mathematically that \"5pack Nylon Braided USB C cables\" and \"HP 63XL Ink\" have the highest combination of values for our three metrics (support, confidence, lift) after running the final findings to build the association rules table:\n",
    "* As seen above, support equates to 0.006, confidence = 0.301 and lift equates to around 3.80\n"
   ]
  },
  {
   "cell_type": "markdown",
   "metadata": {},
   "source": [
    "C4. Top Three Rules: "
   ]
  },
  {
   "cell_type": "markdown",
   "metadata": {},
   "source": [
    "1. This rule, which we are confident in, shows that 30% of customers who bought the Nylon 5 pack cables also bought the HP 63XL Ink. With a support score of 0.0057, the most straightforward measure of support shows that slightly more than 5% of purchases include both goods. The lift value of 3.8 indicates that a client is 3.8 times more likely to acquire the \"HP 63XL Ink\" after first purchasing the \"5pack Nylon Braided USB C cords.\"\n",
    "\n",
    "2. Based on the table above, we are confident that 27% of customers who bought \"Anker 2-in-1 USB Card Reader\" followed that up with \"SanDisk Ultra 64GB card\" together. The lift value turned out to be 4.12, 4.12 times more likely to purchase after antecedent purchase. Support = 0.00799 (7.9% of all transcations contained both items)\n",
    "\n",
    "3. We are confident that 29% of customers who bought \"Apple Lightening to USB Cable\" also bought \"Falcon Dust-Off Compressed Gas\". 0.0045 for support and Lift equates to 4.84. 4.84 times more likely to acquire subsequent after antecedent purchase. "
   ]
  },
  {
   "cell_type": "markdown",
   "metadata": {},
   "source": [
    "D1: Significance of SLC (Support/Lift/Confidence)\n",
    "\n",
    "An examination of the market basket might help comprehend consumer purchasing patterns. Support gauges how frequently a dataset's association rules occur. An association rule's strength is measured by its confidence. In market basket analysis, this is how likely a second product will be in the basket if the first is. To determine it, divide the number of transactions that include only the first product (or group of effects), the antecedent component of the association rule, by the number of transactions that include both products (or group of products). Lift evaluates how well an association rule—a targeting model—predicts a particular outcome compared to a random selection. Lift is, therefore, the proportion of the goal response to the average response.\n",
    "\n",
    "Our highest confidence level is in rule #3, which is at around 38 percent, while the #1 rule is only at 30 percent (based on its examination in conjunction with our other metrics of relevance).\n",
    "Again, there is not enough evidence to be convincing to justify pairing any of the top three rules because it does not happen in more than 5% of all transactions.\n",
    "Finally, the lift ratio gives us hope that a client will buy the following item after purchasing the antecedent. The correlation between buying an \"Apple Lightning to USB cable\" and then purchasing some \"Falcon Dust-Off Compressed Gas\" demonstrates our highest lift metric at \"4.84 times more likely\"."
   ]
  },
  {
   "cell_type": "markdown",
   "metadata": {},
   "source": [
    "D2. Practical Significance of Findings \n",
    "\n",
    "\n",
    "Since we can't truly be sure that any collection of things will be bought even half the time, we don't think these results have a lot of practical application. We have a better probability of correctly guessing the result of a coin toss, don't we? We can see that the likelihood that a consumer will choose to buy the consequent is around four times higher if one of the precursors is chosen for acquisition. \n",
    "Therefore, if a person purchases, for instance, a Nylon USB cables, they are almost four times more likely to purchase HP ink for the printer.\n",
    "We really don't have a lot to go on with these results. Before making any conclusions about relevance, perhaps we should compile more data. Of course, additional research is advised."
   ]
  },
  {
   "cell_type": "markdown",
   "metadata": {},
   "source": [
    "D3. Plan of Action\n",
    "\n",
    "Based on the past analysis and discussion of relevance, we thus advise the company's decision-makers not carrying out with the plan of advertising our service by offering discounted items in return for subscribing to our broadband services. No pairings showed that customers who used telecom services would want or require some related item, and our market basket analysis of this transaction information did not reveal any importance either.\n",
    "\n",
    "This means that we might advise one of those products for a prospective customer discount and a marketing offer if we had discovered a substantial association with, for example, many transactions where consumers acquired two related telecoms peripherals. We didn't discover that. We discovered ink being purchased at the same time as a webcam and an ethernet cable, suggesting that we might be looking for a relationship.\n",
    "At this time, no action is necessary. Before our data science team can recommend confident action, more data needs to be collected and processed."
   ]
  }
 ],
 "metadata": {
  "kernelspec": {
   "display_name": "Python 3.10.4 ('minimal_ds')",
   "language": "python",
   "name": "python3"
  },
  "language_info": {
   "codemirror_mode": {
    "name": "ipython",
    "version": 3
   },
   "file_extension": ".py",
   "mimetype": "text/x-python",
   "name": "python",
   "nbconvert_exporter": "python",
   "pygments_lexer": "ipython3",
   "version": "3.10.4"
  },
  "orig_nbformat": 4,
  "vscode": {
   "interpreter": {
    "hash": "6f8ec3f210281f967d891059147a19be7bd089b986f89193e7c345fa4f6a4143"
   }
  }
 },
 "nbformat": 4,
 "nbformat_minor": 2
}
